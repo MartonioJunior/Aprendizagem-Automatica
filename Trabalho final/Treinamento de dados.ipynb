{
 "cells": [
  {
   "cell_type": "code",
   "execution_count": 18,
   "metadata": {},
   "outputs": [],
   "source": [
    "import numpy as np\n",
    "import pandas as pd\n",
    "from imblearn.over_sampling import SMOTE, ADASYN\n",
    "import os\n",
    "from datetime import datetime\n",
    "from sklearn.decomposition import PCA\n",
    "from sklearn.neural_network import MLPClassifier\n",
    "from sklearn.linear_model import SGDClassifier\n",
    "from sklearn.tree import DecisionTreeClassifier, ExtraTreeClassifier\n",
    "from sklearn.preprocessing import MinMaxScaler, StandardScaler\n",
    "from sklearn.model_selection import GridSearchCV, train_test_split, KFold\n",
    "from sklearn.metrics import accuracy_score, f1_score, recall_score, precision_score, confusion_matrix\n",
    "from sklearn.pipeline import Pipeline\n",
    "from tqdm import tqdm\n",
    "import matplotlib.pyplot as plt\n",
    "from collections import Counter"
   ]
  },
  {
   "cell_type": "code",
   "execution_count": 2,
   "metadata": {},
   "outputs": [],
   "source": [
    "RANDOM_STATE = 15"
   ]
  },
  {
   "attachments": {},
   "cell_type": "markdown",
   "metadata": {},
   "source": [
    "Importar os dados"
   ]
  },
  {
   "cell_type": "code",
   "execution_count": 3,
   "metadata": {},
   "outputs": [],
   "source": [
    "focos = pd.read_csv(\"dados/Focos_limpo.csv\")\n",
    "focos = focos.drop(columns=[\"frp\"])\n",
    "focos = focos.dropna()"
   ]
  },
  {
   "cell_type": "code",
   "execution_count": 4,
   "metadata": {},
   "outputs": [
    {
     "data": {
      "text/plain": [
       "dict_items([(0, 440317), (1, 538)])"
      ]
     },
     "execution_count": 4,
     "metadata": {},
     "output_type": "execute_result"
    }
   ],
   "source": [
    "X_train, X_test, y_train, y_test = train_test_split(focos.drop(columns=[\"gravidade\"]), focos[\"gravidade\"], shuffle=True, random_state=RANDOM_STATE, test_size=.25)\n",
    "Counter(y_test).items()"
   ]
  },
  {
   "attachments": {},
   "cell_type": "markdown",
   "metadata": {},
   "source": [
    "### Balanceamento de dados"
   ]
  },
  {
   "cell_type": "code",
   "execution_count": 5,
   "metadata": {},
   "outputs": [
    {
     "name": "stdout",
     "output_type": "stream",
     "text": [
      "Antes : dict_items([(0, 1321001), (1, 1564)])\n",
      "Depois : dict_items([(0, 1321001), (1, 1321079)])\n"
     ]
    }
   ],
   "source": [
    "X_train_balanced, y_train_balanced = ADASYN(random_state=RANDOM_STATE).fit_resample(X_train, y_train)\n",
    "print(f\"Antes : {Counter(y_train).items()}\")\n",
    "print(f\"Depois : {Counter(y_train_balanced).items()}\")"
   ]
  },
  {
   "attachments": {},
   "cell_type": "markdown",
   "metadata": {},
   "source": [
    "## Treinamento: Multilayer Perceptron"
   ]
  },
  {
   "cell_type": "code",
   "execution_count": 6,
   "metadata": {},
   "outputs": [],
   "source": [
    "mlp_pipeline = Pipeline([('scaler',  StandardScaler()),\n",
    "            ('MLPClassifier', MLPClassifier(random_state = RANDOM_STATE))])"
   ]
  },
  {
   "cell_type": "code",
   "execution_count": 7,
   "metadata": {},
   "outputs": [
    {
     "name": "stdout",
     "output_type": "stream",
     "text": [
      "Fitting 5 folds for each of 9 candidates, totalling 45 fits\n",
      "[CV 1/5] END MLPClassifier__activation=logistic, MLPClassifier__alpha=0.0005, MLPClassifier__hidden_layer_sizes=(1,);, score=0.726 total time=  57.8s\n",
      "[CV 2/5] END MLPClassifier__activation=logistic, MLPClassifier__alpha=0.0005, MLPClassifier__hidden_layer_sizes=(1,);, score=0.709 total time= 1.0min\n",
      "[CV 3/5] END MLPClassifier__activation=logistic, MLPClassifier__alpha=0.0005, MLPClassifier__hidden_layer_sizes=(1,);, score=0.711 total time=  54.9s\n",
      "[CV 4/5] END MLPClassifier__activation=logistic, MLPClassifier__alpha=0.0005, MLPClassifier__hidden_layer_sizes=(1,);, score=0.735 total time=  52.8s\n",
      "[CV 5/5] END MLPClassifier__activation=logistic, MLPClassifier__alpha=0.0005, MLPClassifier__hidden_layer_sizes=(1,);, score=0.706 total time=  54.4s\n",
      "[CV 1/5] END MLPClassifier__activation=logistic, MLPClassifier__alpha=0.0005, MLPClassifier__hidden_layer_sizes=(5,);, score=0.801 total time= 1.0min\n",
      "[CV 2/5] END MLPClassifier__activation=logistic, MLPClassifier__alpha=0.0005, MLPClassifier__hidden_layer_sizes=(5,);, score=0.771 total time= 1.0min\n",
      "[CV 3/5] END MLPClassifier__activation=logistic, MLPClassifier__alpha=0.0005, MLPClassifier__hidden_layer_sizes=(5,);, score=0.802 total time= 1.2min\n",
      "[CV 4/5] END MLPClassifier__activation=logistic, MLPClassifier__alpha=0.0005, MLPClassifier__hidden_layer_sizes=(5,);, score=0.798 total time=  46.1s\n",
      "[CV 5/5] END MLPClassifier__activation=logistic, MLPClassifier__alpha=0.0005, MLPClassifier__hidden_layer_sizes=(5,);, score=0.786 total time= 1.2min\n",
      "[CV 1/5] END MLPClassifier__activation=logistic, MLPClassifier__alpha=0.0005, MLPClassifier__hidden_layer_sizes=(10,);, score=0.820 total time= 2.0min\n",
      "[CV 2/5] END MLPClassifier__activation=logistic, MLPClassifier__alpha=0.0005, MLPClassifier__hidden_layer_sizes=(10,);, score=0.787 total time= 1.4min\n",
      "[CV 3/5] END MLPClassifier__activation=logistic, MLPClassifier__alpha=0.0005, MLPClassifier__hidden_layer_sizes=(10,);, score=0.810 total time= 1.9min\n",
      "[CV 4/5] END MLPClassifier__activation=logistic, MLPClassifier__alpha=0.0005, MLPClassifier__hidden_layer_sizes=(10,);, score=0.810 total time= 1.5min\n",
      "[CV 5/5] END MLPClassifier__activation=logistic, MLPClassifier__alpha=0.0005, MLPClassifier__hidden_layer_sizes=(10,);, score=0.811 total time= 1.7min\n",
      "[CV 1/5] END MLPClassifier__activation=tanh, MLPClassifier__alpha=0.0005, MLPClassifier__hidden_layer_sizes=(1,);, score=0.719 total time=  51.2s\n",
      "[CV 2/5] END MLPClassifier__activation=tanh, MLPClassifier__alpha=0.0005, MLPClassifier__hidden_layer_sizes=(1,);, score=0.709 total time=  49.4s\n",
      "[CV 3/5] END MLPClassifier__activation=tanh, MLPClassifier__alpha=0.0005, MLPClassifier__hidden_layer_sizes=(1,);, score=0.711 total time=  56.4s\n",
      "[CV 4/5] END MLPClassifier__activation=tanh, MLPClassifier__alpha=0.0005, MLPClassifier__hidden_layer_sizes=(1,);, score=0.733 total time=  58.8s\n",
      "[CV 5/5] END MLPClassifier__activation=tanh, MLPClassifier__alpha=0.0005, MLPClassifier__hidden_layer_sizes=(1,);, score=0.708 total time= 1.0min\n",
      "[CV 1/5] END MLPClassifier__activation=tanh, MLPClassifier__alpha=0.0005, MLPClassifier__hidden_layer_sizes=(5,);, score=0.787 total time=  57.2s\n",
      "[CV 2/5] END MLPClassifier__activation=tanh, MLPClassifier__alpha=0.0005, MLPClassifier__hidden_layer_sizes=(5,);, score=0.759 total time=  51.3s\n",
      "[CV 3/5] END MLPClassifier__activation=tanh, MLPClassifier__alpha=0.0005, MLPClassifier__hidden_layer_sizes=(5,);, score=0.780 total time= 1.2min\n",
      "[CV 4/5] END MLPClassifier__activation=tanh, MLPClassifier__alpha=0.0005, MLPClassifier__hidden_layer_sizes=(5,);, score=0.782 total time= 1.6min\n",
      "[CV 5/5] END MLPClassifier__activation=tanh, MLPClassifier__alpha=0.0005, MLPClassifier__hidden_layer_sizes=(5,);, score=0.777 total time= 1.2min\n",
      "[CV 1/5] END MLPClassifier__activation=tanh, MLPClassifier__alpha=0.0005, MLPClassifier__hidden_layer_sizes=(10,);, score=0.819 total time= 2.0min\n",
      "[CV 2/5] END MLPClassifier__activation=tanh, MLPClassifier__alpha=0.0005, MLPClassifier__hidden_layer_sizes=(10,);, score=0.782 total time= 1.3min\n",
      "[CV 3/5] END MLPClassifier__activation=tanh, MLPClassifier__alpha=0.0005, MLPClassifier__hidden_layer_sizes=(10,);, score=0.810 total time= 2.2min\n",
      "[CV 4/5] END MLPClassifier__activation=tanh, MLPClassifier__alpha=0.0005, MLPClassifier__hidden_layer_sizes=(10,);, score=0.812 total time= 2.0min\n",
      "[CV 5/5] END MLPClassifier__activation=tanh, MLPClassifier__alpha=0.0005, MLPClassifier__hidden_layer_sizes=(10,);, score=0.811 total time= 1.5min\n",
      "[CV 1/5] END MLPClassifier__activation=identity, MLPClassifier__alpha=0.0005, MLPClassifier__hidden_layer_sizes=(1,);, score=0.722 total time=  27.6s\n",
      "[CV 2/5] END MLPClassifier__activation=identity, MLPClassifier__alpha=0.0005, MLPClassifier__hidden_layer_sizes=(1,);, score=0.697 total time=  27.8s\n",
      "[CV 3/5] END MLPClassifier__activation=identity, MLPClassifier__alpha=0.0005, MLPClassifier__hidden_layer_sizes=(1,);, score=0.716 total time=  28.5s\n",
      "[CV 4/5] END MLPClassifier__activation=identity, MLPClassifier__alpha=0.0005, MLPClassifier__hidden_layer_sizes=(1,);, score=0.737 total time=  27.6s\n",
      "[CV 5/5] END MLPClassifier__activation=identity, MLPClassifier__alpha=0.0005, MLPClassifier__hidden_layer_sizes=(1,);, score=0.715 total time=  27.6s\n",
      "[CV 1/5] END MLPClassifier__activation=identity, MLPClassifier__alpha=0.0005, MLPClassifier__hidden_layer_sizes=(5,);, score=0.725 total time=  29.2s\n",
      "[CV 2/5] END MLPClassifier__activation=identity, MLPClassifier__alpha=0.0005, MLPClassifier__hidden_layer_sizes=(5,);, score=0.713 total time=  29.8s\n",
      "[CV 3/5] END MLPClassifier__activation=identity, MLPClassifier__alpha=0.0005, MLPClassifier__hidden_layer_sizes=(5,);, score=0.716 total time=  29.4s\n",
      "[CV 4/5] END MLPClassifier__activation=identity, MLPClassifier__alpha=0.0005, MLPClassifier__hidden_layer_sizes=(5,);, score=0.742 total time=  27.4s\n",
      "[CV 5/5] END MLPClassifier__activation=identity, MLPClassifier__alpha=0.0005, MLPClassifier__hidden_layer_sizes=(5,);, score=0.715 total time=  28.4s\n",
      "[CV 1/5] END MLPClassifier__activation=identity, MLPClassifier__alpha=0.0005, MLPClassifier__hidden_layer_sizes=(10,);, score=0.722 total time=  29.3s\n",
      "[CV 2/5] END MLPClassifier__activation=identity, MLPClassifier__alpha=0.0005, MLPClassifier__hidden_layer_sizes=(10,);, score=0.699 total time=  28.7s\n",
      "[CV 3/5] END MLPClassifier__activation=identity, MLPClassifier__alpha=0.0005, MLPClassifier__hidden_layer_sizes=(10,);, score=0.714 total time=  29.2s\n",
      "[CV 4/5] END MLPClassifier__activation=identity, MLPClassifier__alpha=0.0005, MLPClassifier__hidden_layer_sizes=(10,);, score=0.732 total time=  28.7s\n",
      "[CV 5/5] END MLPClassifier__activation=identity, MLPClassifier__alpha=0.0005, MLPClassifier__hidden_layer_sizes=(10,);, score=0.715 total time=  27.7s\n"
     ]
    }
   ],
   "source": [
    "mlp_params = {\n",
    "    \"MLPClassifier__hidden_layer_sizes\": [(1,),(5,), (10,)],\n",
    "    \"MLPClassifier__activation\": [\"logistic\", \"tanh\", 'identity'],\n",
    "    \"MLPClassifier__alpha\": [0.0005]\n",
    "}\n",
    "mlp_grid_search = GridSearchCV(mlp_pipeline, mlp_params, scoring=\"f1\", cv=5, verbose=3)\n",
    "mlp_grid_search = mlp_grid_search.fit(X_train_balanced, y_train_balanced)"
   ]
  },
  {
   "cell_type": "code",
   "execution_count": 10,
   "metadata": {},
   "outputs": [
    {
     "data": {
      "text/plain": [
       "{'MLPClassifier__activation': 'logistic',\n",
       " 'MLPClassifier__alpha': 0.0005,\n",
       " 'MLPClassifier__hidden_layer_sizes': (10,)}"
      ]
     },
     "execution_count": 10,
     "metadata": {},
     "output_type": "execute_result"
    }
   ],
   "source": [
    "mlp_grid_search.best_params_"
   ]
  },
  {
   "cell_type": "code",
   "execution_count": 11,
   "metadata": {},
   "outputs": [
    {
     "name": "stdout",
     "output_type": "stream",
     "text": [
      "accuracy_score: 0.790953941772238\n",
      "f1_score: 0.00779475253813938\n",
      "precision_score: 0.003920082300070388\n",
      "recall_score: 0.6728624535315985\n"
     ]
    }
   ],
   "source": [
    "mlp_best_model = mlp_grid_search.best_estimator_\n",
    "mlp_trained = mlp_best_model.fit(X_train_balanced, y_train_balanced)\n",
    "mlp_y_pred = mlp_trained.predict(X_test)\n",
    "print(f\"accuracy_score: {accuracy_score(y_test, mlp_y_pred)}\")\n",
    "print(f\"f1_score: {f1_score(y_test, mlp_y_pred)}\")\n",
    "print(f\"precision_score: {precision_score(y_test, mlp_y_pred)}\")\n",
    "print(f\"recall_score: {recall_score(y_test, mlp_y_pred)}\")"
   ]
  },
  {
   "cell_type": "code",
   "execution_count": 19,
   "metadata": {},
   "outputs": [
    {
     "data": {
      "text/plain": [
       "array([[348334,  91983],\n",
       "       [   176,    362]])"
      ]
     },
     "execution_count": 19,
     "metadata": {},
     "output_type": "execute_result"
    }
   ],
   "source": [
    "confusion_matrix(y_test, mlp_y_pred)"
   ]
  },
  {
   "attachments": {},
   "cell_type": "markdown",
   "metadata": {},
   "source": [
    "## Treinamento: Decision Tree"
   ]
  },
  {
   "cell_type": "code",
   "execution_count": 12,
   "metadata": {},
   "outputs": [
    {
     "name": "stdout",
     "output_type": "stream",
     "text": [
      "Fitting 5 folds for each of 3 candidates, totalling 15 fits\n",
      "[CV 1/5] END DecisionTreeClassifier__criterion=gini;, score=0.969 total time=  13.6s\n",
      "[CV 2/5] END DecisionTreeClassifier__criterion=gini;, score=0.975 total time=  13.6s\n",
      "[CV 3/5] END DecisionTreeClassifier__criterion=gini;, score=0.969 total time=  13.4s\n",
      "[CV 4/5] END DecisionTreeClassifier__criterion=gini;, score=0.981 total time=  14.3s\n",
      "[CV 5/5] END DecisionTreeClassifier__criterion=gini;, score=0.980 total time=  14.0s\n",
      "[CV 1/5] END DecisionTreeClassifier__criterion=entropy;, score=0.972 total time=  15.7s\n",
      "[CV 2/5] END DecisionTreeClassifier__criterion=entropy;, score=0.974 total time=  15.4s\n",
      "[CV 3/5] END DecisionTreeClassifier__criterion=entropy;, score=0.969 total time=  16.2s\n",
      "[CV 4/5] END DecisionTreeClassifier__criterion=entropy;, score=0.986 total time=  16.8s\n",
      "[CV 5/5] END DecisionTreeClassifier__criterion=entropy;, score=0.982 total time=  16.9s\n",
      "[CV 1/5] END DecisionTreeClassifier__criterion=log_loss;, score=0.972 total time=  17.5s\n",
      "[CV 2/5] END DecisionTreeClassifier__criterion=log_loss;, score=0.974 total time=  16.4s\n",
      "[CV 3/5] END DecisionTreeClassifier__criterion=log_loss;, score=0.969 total time=  17.1s\n",
      "[CV 4/5] END DecisionTreeClassifier__criterion=log_loss;, score=0.986 total time=  15.8s\n",
      "[CV 5/5] END DecisionTreeClassifier__criterion=log_loss;, score=0.982 total time=  17.4s\n"
     ]
    },
    {
     "data": {
      "text/plain": [
       "{'DecisionTreeClassifier__criterion': 'entropy'}"
      ]
     },
     "execution_count": 12,
     "metadata": {},
     "output_type": "execute_result"
    }
   ],
   "source": [
    "decision_tree_pipeline = Pipeline([('scaler',  StandardScaler()),\n",
    "            ('DecisionTreeClassifier', DecisionTreeClassifier(random_state = RANDOM_STATE))])\n",
    "decision_tree_params = {\n",
    "    \"DecisionTreeClassifier__criterion\": ['gini', 'entropy', 'log_loss']\n",
    "}\n",
    "decision_tree_grid_search = GridSearchCV(decision_tree_pipeline, decision_tree_params, scoring=\"f1\", cv=5, verbose=3)\n",
    "decision_tree_grid_search = decision_tree_grid_search.fit(X_train_balanced, y_train_balanced)\n",
    "decision_tree_grid_search.best_params_"
   ]
  },
  {
   "cell_type": "code",
   "execution_count": 13,
   "metadata": {},
   "outputs": [
    {
     "name": "stdout",
     "output_type": "stream",
     "text": [
      "DECISION TREE\n",
      "accuracy_score: 0.9992469179208583\n",
      "f1_score: 0.732258064516129\n",
      "precision_score: 0.6467236467236467\n",
      "recall_score: 0.8438661710037175\n"
     ]
    }
   ],
   "source": [
    "decision_tree_best_model = decision_tree_grid_search.best_estimator_\n",
    "decision_tree_trained = decision_tree_best_model.fit(X_train_balanced, y_train_balanced)\n",
    "decision_tree_y_pred = decision_tree_trained.predict(X_test)\n",
    "print(\"DECISION TREE\")\n",
    "print(f\"accuracy_score: {accuracy_score(y_test, decision_tree_y_pred)}\")\n",
    "print(f\"f1_score: {f1_score(y_test, decision_tree_y_pred)}\")\n",
    "print(f\"precision_score: {precision_score(y_test, decision_tree_y_pred)}\")\n",
    "print(f\"recall_score: {recall_score(y_test, decision_tree_y_pred)}\")"
   ]
  },
  {
   "cell_type": "code",
   "execution_count": 20,
   "metadata": {},
   "outputs": [
    {
     "data": {
      "text/plain": [
       "array([[440069,    248],\n",
       "       [    84,    454]])"
      ]
     },
     "execution_count": 20,
     "metadata": {},
     "output_type": "execute_result"
    }
   ],
   "source": [
    "confusion_matrix(y_test, decision_tree_y_pred)"
   ]
  },
  {
   "attachments": {},
   "cell_type": "markdown",
   "metadata": {},
   "source": [
    "## Treinamento: SGDClassifier"
   ]
  },
  {
   "cell_type": "code",
   "execution_count": 15,
   "metadata": {},
   "outputs": [
    {
     "name": "stdout",
     "output_type": "stream",
     "text": [
      "Fitting 5 folds for each of 6 candidates, totalling 30 fits\n",
      "[CV 1/5] END SGDClassifier__max_iter=1000, SGDClassifier__penalty=l2;, score=0.731 total time=   3.3s\n",
      "[CV 2/5] END SGDClassifier__max_iter=1000, SGDClassifier__penalty=l2;, score=0.709 total time=   3.2s\n",
      "[CV 3/5] END SGDClassifier__max_iter=1000, SGDClassifier__penalty=l2;, score=0.733 total time=   3.2s\n",
      "[CV 4/5] END SGDClassifier__max_iter=1000, SGDClassifier__penalty=l2;, score=0.729 total time=   3.2s\n",
      "[CV 5/5] END SGDClassifier__max_iter=1000, SGDClassifier__penalty=l2;, score=0.728 total time=   3.2s\n",
      "[CV 1/5] END SGDClassifier__max_iter=1000, SGDClassifier__penalty=elasticnet;, score=0.731 total time=   3.6s\n",
      "[CV 2/5] END SGDClassifier__max_iter=1000, SGDClassifier__penalty=elasticnet;, score=0.709 total time=   3.6s\n",
      "[CV 3/5] END SGDClassifier__max_iter=1000, SGDClassifier__penalty=elasticnet;, score=0.734 total time=   3.6s\n",
      "[CV 4/5] END SGDClassifier__max_iter=1000, SGDClassifier__penalty=elasticnet;, score=0.728 total time=   3.6s\n",
      "[CV 5/5] END SGDClassifier__max_iter=1000, SGDClassifier__penalty=elasticnet;, score=0.727 total time=   3.6s\n",
      "[CV 1/5] END SGDClassifier__max_iter=3000, SGDClassifier__penalty=l2;, score=0.731 total time=   3.2s\n",
      "[CV 2/5] END SGDClassifier__max_iter=3000, SGDClassifier__penalty=l2;, score=0.709 total time=   3.2s\n",
      "[CV 3/5] END SGDClassifier__max_iter=3000, SGDClassifier__penalty=l2;, score=0.733 total time=   3.2s\n",
      "[CV 4/5] END SGDClassifier__max_iter=3000, SGDClassifier__penalty=l2;, score=0.729 total time=   3.2s\n",
      "[CV 5/5] END SGDClassifier__max_iter=3000, SGDClassifier__penalty=l2;, score=0.728 total time=   3.2s\n",
      "[CV 1/5] END SGDClassifier__max_iter=3000, SGDClassifier__penalty=elasticnet;, score=0.731 total time=   3.6s\n",
      "[CV 2/5] END SGDClassifier__max_iter=3000, SGDClassifier__penalty=elasticnet;, score=0.709 total time=   3.6s\n",
      "[CV 3/5] END SGDClassifier__max_iter=3000, SGDClassifier__penalty=elasticnet;, score=0.734 total time=   3.6s\n",
      "[CV 4/5] END SGDClassifier__max_iter=3000, SGDClassifier__penalty=elasticnet;, score=0.728 total time=   3.5s\n",
      "[CV 5/5] END SGDClassifier__max_iter=3000, SGDClassifier__penalty=elasticnet;, score=0.727 total time=   3.5s\n",
      "[CV 1/5] END SGDClassifier__max_iter=5000, SGDClassifier__penalty=l2;, score=0.731 total time=   3.2s\n",
      "[CV 2/5] END SGDClassifier__max_iter=5000, SGDClassifier__penalty=l2;, score=0.709 total time=   3.2s\n",
      "[CV 3/5] END SGDClassifier__max_iter=5000, SGDClassifier__penalty=l2;, score=0.733 total time=   3.2s\n",
      "[CV 4/5] END SGDClassifier__max_iter=5000, SGDClassifier__penalty=l2;, score=0.729 total time=   3.2s\n",
      "[CV 5/5] END SGDClassifier__max_iter=5000, SGDClassifier__penalty=l2;, score=0.728 total time=   3.3s\n",
      "[CV 1/5] END SGDClassifier__max_iter=5000, SGDClassifier__penalty=elasticnet;, score=0.731 total time=   3.6s\n",
      "[CV 2/5] END SGDClassifier__max_iter=5000, SGDClassifier__penalty=elasticnet;, score=0.709 total time=   3.6s\n",
      "[CV 3/5] END SGDClassifier__max_iter=5000, SGDClassifier__penalty=elasticnet;, score=0.734 total time=   3.6s\n",
      "[CV 4/5] END SGDClassifier__max_iter=5000, SGDClassifier__penalty=elasticnet;, score=0.728 total time=   3.6s\n",
      "[CV 5/5] END SGDClassifier__max_iter=5000, SGDClassifier__penalty=elasticnet;, score=0.727 total time=   3.6s\n"
     ]
    },
    {
     "data": {
      "text/plain": [
       "{'SGDClassifier__max_iter': 1000, 'SGDClassifier__penalty': 'l2'}"
      ]
     },
     "execution_count": 15,
     "metadata": {},
     "output_type": "execute_result"
    }
   ],
   "source": [
    "sgd_pipeline = Pipeline([('scaler',  StandardScaler()),\n",
    "            ('SGDClassifier', SGDClassifier(random_state = RANDOM_STATE))])\n",
    "sgd_params = {\n",
    "    \"SGDClassifier__penalty\": ['l2', 'elasticnet'],\n",
    "    \"SGDClassifier__max_iter\": [1000, 3000, 5000]\n",
    "}\n",
    "sgd_grid_search = GridSearchCV(sgd_pipeline, sgd_params, scoring=\"f1\", cv=5, verbose=3)\n",
    "sgd_grid_search = sgd_grid_search.fit(X_train_balanced, y_train_balanced)\n",
    "sgd_grid_search.best_params_"
   ]
  },
  {
   "cell_type": "code",
   "execution_count": 16,
   "metadata": {},
   "outputs": [
    {
     "name": "stdout",
     "output_type": "stream",
     "text": [
      "SGD Classifier\n",
      "accuracy_score: 0.7021968674507492\n",
      "f1_score: 0.0049265564128605855\n",
      "precision_score: 0.0024733637747336376\n",
      "recall_score: 0.604089219330855\n"
     ]
    }
   ],
   "source": [
    "sgd_best_model = sgd_grid_search.best_estimator_\n",
    "sgd_trained = sgd_best_model.fit(X_train_balanced, y_train_balanced)\n",
    "sgd_y_pred = sgd_trained.predict(X_test)\n",
    "print(\"SGD Classifier\")\n",
    "print(f\"accuracy_score: {accuracy_score(y_test, sgd_y_pred)}\")\n",
    "print(f\"f1_score: {f1_score(y_test, sgd_y_pred)}\")\n",
    "print(f\"precision_score: {precision_score(y_test, sgd_y_pred)}\")\n",
    "print(f\"recall_score: {recall_score(y_test, sgd_y_pred)}\")"
   ]
  },
  {
   "cell_type": "code",
   "execution_count": 21,
   "metadata": {},
   "outputs": [
    {
     "data": {
      "text/plain": [
       "array([[309242, 131075],\n",
       "       [   213,    325]])"
      ]
     },
     "execution_count": 21,
     "metadata": {},
     "output_type": "execute_result"
    }
   ],
   "source": [
    "confusion_matrix(y_test, sgd_y_pred)"
   ]
  }
 ],
 "metadata": {
  "kernelspec": {
   "display_name": "venv",
   "language": "python",
   "name": "python3"
  },
  "language_info": {
   "codemirror_mode": {
    "name": "ipython",
    "version": 3
   },
   "file_extension": ".py",
   "mimetype": "text/x-python",
   "name": "python",
   "nbconvert_exporter": "python",
   "pygments_lexer": "ipython3",
   "version": "3.10.6"
  },
  "orig_nbformat": 4
 },
 "nbformat": 4,
 "nbformat_minor": 2
}
